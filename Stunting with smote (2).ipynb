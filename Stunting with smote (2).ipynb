{
  "nbformat": 4,
  "nbformat_minor": 5,
  "metadata": {
    "kernelspec": {
      "display_name": "Python 3",
      "language": "python",
      "name": "python3"
    },
    "language_info": {
      "codemirror_mode": {
        "name": "ipython",
        "version": 3
      },
      "file_extension": ".py",
      "mimetype": "text/x-python",
      "name": "python",
      "nbconvert_exporter": "python",
      "pygments_lexer": "ipython3",
      "version": "3.8.8"
    },
    "colab": {
      "name": "Struktur Data baru",
      "provenance": [],
      "collapsed_sections": []
    },
    "accelerator": "GPU"
  },
  "cells": [
    {
      "cell_type": "code",
      "metadata": {
        "colab": {
          "base_uri": "https://localhost:8080/",
          "height": 493
        },
        "id": "61f183b2-5ca9-4e5f-97d4-96a477590aef",
        "outputId": "b32e2876-9b77-48f0-ae25-6579c1cda141"
      },
      "source": [
        "import pandas as pd\n",
        "import numpy as np\n",
        "import matplotlib.pyplot as plt\n",
        "import statistics as stat\n",
        "from google.colab import drive\n",
        "drive.mount('/content/drive')\n",
        "base_dir = '/content/drive/MyDrive/StrukturData/Dataset.csv'\n",
        "df_red =pd.read_csv(base_dir)\n",
        "df_red "
      ],
      "id": "61f183b2-5ca9-4e5f-97d4-96a477590aef",
      "execution_count": null,
      "outputs": [
        {
          "output_type": "stream",
          "name": "stdout",
          "text": [
            "Drive already mounted at /content/drive; to attempt to forcibly remount, call drive.mount(\"/content/drive\", force_remount=True).\n"
          ]
        },
        {
          "output_type": "execute_result",
          "data": {
            "text/html": [
              "<div>\n",
              "<style scoped>\n",
              "    .dataframe tbody tr th:only-of-type {\n",
              "        vertical-align: middle;\n",
              "    }\n",
              "\n",
              "    .dataframe tbody tr th {\n",
              "        vertical-align: top;\n",
              "    }\n",
              "\n",
              "    .dataframe thead th {\n",
              "        text-align: right;\n",
              "    }\n",
              "</style>\n",
              "<table border=\"1\" class=\"dataframe\">\n",
              "  <thead>\n",
              "    <tr style=\"text-align: right;\">\n",
              "      <th></th>\n",
              "      <th>Usia (Tahun)</th>\n",
              "      <th>Lila (cm)</th>\n",
              "      <th>Hb (gr%)</th>\n",
              "      <th>Paritas</th>\n",
              "      <th>Interval (bulan)</th>\n",
              "      <th>Tinggi Badan(cm)</th>\n",
              "      <th>Tinggi Badan(m)</th>\n",
              "      <th>BB hamil (kg)</th>\n",
              "      <th>IMT</th>\n",
              "      <th>risiko hamil</th>\n",
              "      <th>R1</th>\n",
              "      <th>R2</th>\n",
              "      <th>R3</th>\n",
              "      <th>R4</th>\n",
              "      <th>R5</th>\n",
              "      <th>R6</th>\n",
              "    </tr>\n",
              "  </thead>\n",
              "  <tbody>\n",
              "    <tr>\n",
              "      <th>0</th>\n",
              "      <td>32.0</td>\n",
              "      <td>25.0</td>\n",
              "      <td>11.3</td>\n",
              "      <td>1.0</td>\n",
              "      <td>48.0</td>\n",
              "      <td>158.0</td>\n",
              "      <td>1.58</td>\n",
              "      <td>49.0</td>\n",
              "      <td>19.628265</td>\n",
              "      <td>1.0</td>\n",
              "      <td>NaN</td>\n",
              "      <td>1.0</td>\n",
              "      <td>NaN</td>\n",
              "      <td>1.0</td>\n",
              "      <td>NaN</td>\n",
              "      <td>1.0</td>\n",
              "    </tr>\n",
              "    <tr>\n",
              "      <th>1</th>\n",
              "      <td>29.0</td>\n",
              "      <td>24.0</td>\n",
              "      <td>11.4</td>\n",
              "      <td>1.0</td>\n",
              "      <td>96.0</td>\n",
              "      <td>153.0</td>\n",
              "      <td>1.53</td>\n",
              "      <td>49.0</td>\n",
              "      <td>20.932120</td>\n",
              "      <td>1.0</td>\n",
              "      <td>NaN</td>\n",
              "      <td>NaN</td>\n",
              "      <td>1.0</td>\n",
              "      <td>NaN</td>\n",
              "      <td>NaN</td>\n",
              "      <td>1.0</td>\n",
              "    </tr>\n",
              "    <tr>\n",
              "      <th>2</th>\n",
              "      <td>23.0</td>\n",
              "      <td>27.0</td>\n",
              "      <td>12.0</td>\n",
              "      <td>0.0</td>\n",
              "      <td>0.0</td>\n",
              "      <td>153.0</td>\n",
              "      <td>1.53</td>\n",
              "      <td>49.0</td>\n",
              "      <td>20.932120</td>\n",
              "      <td>1.0</td>\n",
              "      <td>NaN</td>\n",
              "      <td>NaN</td>\n",
              "      <td>1.0</td>\n",
              "      <td>NaN</td>\n",
              "      <td>NaN</td>\n",
              "      <td>1.0</td>\n",
              "    </tr>\n",
              "    <tr>\n",
              "      <th>3</th>\n",
              "      <td>28.0</td>\n",
              "      <td>28.0</td>\n",
              "      <td>11.6</td>\n",
              "      <td>0.0</td>\n",
              "      <td>0.0</td>\n",
              "      <td>155.0</td>\n",
              "      <td>1.55</td>\n",
              "      <td>60.0</td>\n",
              "      <td>24.973985</td>\n",
              "      <td>1.0</td>\n",
              "      <td>NaN</td>\n",
              "      <td>1.0</td>\n",
              "      <td>NaN</td>\n",
              "      <td>1.0</td>\n",
              "      <td>NaN</td>\n",
              "      <td>1.0</td>\n",
              "    </tr>\n",
              "    <tr>\n",
              "      <th>4</th>\n",
              "      <td>24.0</td>\n",
              "      <td>28.0</td>\n",
              "      <td>12.0</td>\n",
              "      <td>1.0</td>\n",
              "      <td>72.0</td>\n",
              "      <td>150.0</td>\n",
              "      <td>1.50</td>\n",
              "      <td>58.0</td>\n",
              "      <td>25.777778</td>\n",
              "      <td>1.0</td>\n",
              "      <td>NaN</td>\n",
              "      <td>NaN</td>\n",
              "      <td>1.0</td>\n",
              "      <td>NaN</td>\n",
              "      <td>NaN</td>\n",
              "      <td>1.0</td>\n",
              "    </tr>\n",
              "    <tr>\n",
              "      <th>...</th>\n",
              "      <td>...</td>\n",
              "      <td>...</td>\n",
              "      <td>...</td>\n",
              "      <td>...</td>\n",
              "      <td>...</td>\n",
              "      <td>...</td>\n",
              "      <td>...</td>\n",
              "      <td>...</td>\n",
              "      <td>...</td>\n",
              "      <td>...</td>\n",
              "      <td>...</td>\n",
              "      <td>...</td>\n",
              "      <td>...</td>\n",
              "      <td>...</td>\n",
              "      <td>...</td>\n",
              "      <td>...</td>\n",
              "    </tr>\n",
              "    <tr>\n",
              "      <th>396</th>\n",
              "      <td>NaN</td>\n",
              "      <td>NaN</td>\n",
              "      <td>NaN</td>\n",
              "      <td>NaN</td>\n",
              "      <td>NaN</td>\n",
              "      <td>NaN</td>\n",
              "      <td>NaN</td>\n",
              "      <td>NaN</td>\n",
              "      <td>NaN</td>\n",
              "      <td>NaN</td>\n",
              "      <td>R2 : Pijat Ibu Hamil</td>\n",
              "      <td>NaN</td>\n",
              "      <td>NaN</td>\n",
              "      <td>NaN</td>\n",
              "      <td>NaN</td>\n",
              "      <td>NaN</td>\n",
              "    </tr>\n",
              "    <tr>\n",
              "      <th>397</th>\n",
              "      <td>NaN</td>\n",
              "      <td>NaN</td>\n",
              "      <td>NaN</td>\n",
              "      <td>NaN</td>\n",
              "      <td>NaN</td>\n",
              "      <td>NaN</td>\n",
              "      <td>NaN</td>\n",
              "      <td>NaN</td>\n",
              "      <td>NaN</td>\n",
              "      <td>NaN</td>\n",
              "      <td>R3 : Yoga Ibu Hamil</td>\n",
              "      <td>NaN</td>\n",
              "      <td>NaN</td>\n",
              "      <td>NaN</td>\n",
              "      <td>NaN</td>\n",
              "      <td>NaN</td>\n",
              "    </tr>\n",
              "    <tr>\n",
              "      <th>398</th>\n",
              "      <td>NaN</td>\n",
              "      <td>NaN</td>\n",
              "      <td>NaN</td>\n",
              "      <td>NaN</td>\n",
              "      <td>NaN</td>\n",
              "      <td>NaN</td>\n",
              "      <td>NaN</td>\n",
              "      <td>NaN</td>\n",
              "      <td>NaN</td>\n",
              "      <td>NaN</td>\n",
              "      <td>R4 : Hypnoterapi</td>\n",
              "      <td>NaN</td>\n",
              "      <td>NaN</td>\n",
              "      <td>NaN</td>\n",
              "      <td>NaN</td>\n",
              "      <td>NaN</td>\n",
              "    </tr>\n",
              "    <tr>\n",
              "      <th>399</th>\n",
              "      <td>NaN</td>\n",
              "      <td>NaN</td>\n",
              "      <td>NaN</td>\n",
              "      <td>NaN</td>\n",
              "      <td>NaN</td>\n",
              "      <td>NaN</td>\n",
              "      <td>NaN</td>\n",
              "      <td>NaN</td>\n",
              "      <td>NaN</td>\n",
              "      <td>NaN</td>\n",
              "      <td>R5 : Akupresur</td>\n",
              "      <td>NaN</td>\n",
              "      <td>NaN</td>\n",
              "      <td>NaN</td>\n",
              "      <td>NaN</td>\n",
              "      <td>NaN</td>\n",
              "    </tr>\n",
              "    <tr>\n",
              "      <th>400</th>\n",
              "      <td>NaN</td>\n",
              "      <td>NaN</td>\n",
              "      <td>NaN</td>\n",
              "      <td>NaN</td>\n",
              "      <td>NaN</td>\n",
              "      <td>NaN</td>\n",
              "      <td>NaN</td>\n",
              "      <td>NaN</td>\n",
              "      <td>NaN</td>\n",
              "      <td>NaN</td>\n",
              "      <td>R6 : Menjaga pemenuhan nutrisi sesuai</td>\n",
              "      <td>NaN</td>\n",
              "      <td>NaN</td>\n",
              "      <td>NaN</td>\n",
              "      <td>NaN</td>\n",
              "      <td>NaN</td>\n",
              "    </tr>\n",
              "  </tbody>\n",
              "</table>\n",
              "<p>401 rows × 16 columns</p>\n",
              "</div>"
            ],
            "text/plain": [
              "     Usia (Tahun)  Lila (cm)  Hb (gr%)  Paritas  ...   R3   R4  R5   R6\n",
              "0            32.0       25.0      11.3      1.0  ...  NaN  1.0 NaN  1.0\n",
              "1            29.0       24.0      11.4      1.0  ...  1.0  NaN NaN  1.0\n",
              "2            23.0       27.0      12.0      0.0  ...  1.0  NaN NaN  1.0\n",
              "3            28.0       28.0      11.6      0.0  ...  NaN  1.0 NaN  1.0\n",
              "4            24.0       28.0      12.0      1.0  ...  1.0  NaN NaN  1.0\n",
              "..            ...        ...       ...      ...  ...  ...  ...  ..  ...\n",
              "396           NaN        NaN       NaN      NaN  ...  NaN  NaN NaN  NaN\n",
              "397           NaN        NaN       NaN      NaN  ...  NaN  NaN NaN  NaN\n",
              "398           NaN        NaN       NaN      NaN  ...  NaN  NaN NaN  NaN\n",
              "399           NaN        NaN       NaN      NaN  ...  NaN  NaN NaN  NaN\n",
              "400           NaN        NaN       NaN      NaN  ...  NaN  NaN NaN  NaN\n",
              "\n",
              "[401 rows x 16 columns]"
            ]
          },
          "metadata": {},
          "execution_count": 46
        }
      ]
    },
    {
      "cell_type": "code",
      "metadata": {
        "id": "69ab9ed9-8beb-4252-a478-af62754618e8",
        "colab": {
          "base_uri": "https://localhost:8080/",
          "height": 424
        },
        "outputId": "ff79ad98-7dc0-4f10-888a-65880993db17"
      },
      "source": [
        "data =df_red.iloc[:393,:10]\n",
        "data"
      ],
      "id": "69ab9ed9-8beb-4252-a478-af62754618e8",
      "execution_count": null,
      "outputs": [
        {
          "output_type": "execute_result",
          "data": {
            "text/html": [
              "<div>\n",
              "<style scoped>\n",
              "    .dataframe tbody tr th:only-of-type {\n",
              "        vertical-align: middle;\n",
              "    }\n",
              "\n",
              "    .dataframe tbody tr th {\n",
              "        vertical-align: top;\n",
              "    }\n",
              "\n",
              "    .dataframe thead th {\n",
              "        text-align: right;\n",
              "    }\n",
              "</style>\n",
              "<table border=\"1\" class=\"dataframe\">\n",
              "  <thead>\n",
              "    <tr style=\"text-align: right;\">\n",
              "      <th></th>\n",
              "      <th>Usia (Tahun)</th>\n",
              "      <th>Lila (cm)</th>\n",
              "      <th>Hb (gr%)</th>\n",
              "      <th>Paritas</th>\n",
              "      <th>Interval (bulan)</th>\n",
              "      <th>Tinggi Badan(cm)</th>\n",
              "      <th>Tinggi Badan(m)</th>\n",
              "      <th>BB hamil (kg)</th>\n",
              "      <th>IMT</th>\n",
              "      <th>risiko hamil</th>\n",
              "    </tr>\n",
              "  </thead>\n",
              "  <tbody>\n",
              "    <tr>\n",
              "      <th>0</th>\n",
              "      <td>32.0</td>\n",
              "      <td>25.0</td>\n",
              "      <td>11.3</td>\n",
              "      <td>1.0</td>\n",
              "      <td>48.0</td>\n",
              "      <td>158.0</td>\n",
              "      <td>1.58</td>\n",
              "      <td>49.0</td>\n",
              "      <td>19.628265</td>\n",
              "      <td>1.0</td>\n",
              "    </tr>\n",
              "    <tr>\n",
              "      <th>1</th>\n",
              "      <td>29.0</td>\n",
              "      <td>24.0</td>\n",
              "      <td>11.4</td>\n",
              "      <td>1.0</td>\n",
              "      <td>96.0</td>\n",
              "      <td>153.0</td>\n",
              "      <td>1.53</td>\n",
              "      <td>49.0</td>\n",
              "      <td>20.932120</td>\n",
              "      <td>1.0</td>\n",
              "    </tr>\n",
              "    <tr>\n",
              "      <th>2</th>\n",
              "      <td>23.0</td>\n",
              "      <td>27.0</td>\n",
              "      <td>12.0</td>\n",
              "      <td>0.0</td>\n",
              "      <td>0.0</td>\n",
              "      <td>153.0</td>\n",
              "      <td>1.53</td>\n",
              "      <td>49.0</td>\n",
              "      <td>20.932120</td>\n",
              "      <td>1.0</td>\n",
              "    </tr>\n",
              "    <tr>\n",
              "      <th>3</th>\n",
              "      <td>28.0</td>\n",
              "      <td>28.0</td>\n",
              "      <td>11.6</td>\n",
              "      <td>0.0</td>\n",
              "      <td>0.0</td>\n",
              "      <td>155.0</td>\n",
              "      <td>1.55</td>\n",
              "      <td>60.0</td>\n",
              "      <td>24.973985</td>\n",
              "      <td>1.0</td>\n",
              "    </tr>\n",
              "    <tr>\n",
              "      <th>4</th>\n",
              "      <td>24.0</td>\n",
              "      <td>28.0</td>\n",
              "      <td>12.0</td>\n",
              "      <td>1.0</td>\n",
              "      <td>72.0</td>\n",
              "      <td>150.0</td>\n",
              "      <td>1.50</td>\n",
              "      <td>58.0</td>\n",
              "      <td>25.777778</td>\n",
              "      <td>1.0</td>\n",
              "    </tr>\n",
              "    <tr>\n",
              "      <th>...</th>\n",
              "      <td>...</td>\n",
              "      <td>...</td>\n",
              "      <td>...</td>\n",
              "      <td>...</td>\n",
              "      <td>...</td>\n",
              "      <td>...</td>\n",
              "      <td>...</td>\n",
              "      <td>...</td>\n",
              "      <td>...</td>\n",
              "      <td>...</td>\n",
              "    </tr>\n",
              "    <tr>\n",
              "      <th>388</th>\n",
              "      <td>26.0</td>\n",
              "      <td>24.0</td>\n",
              "      <td>12.6</td>\n",
              "      <td>0.0</td>\n",
              "      <td>0.0</td>\n",
              "      <td>152.0</td>\n",
              "      <td>1.52</td>\n",
              "      <td>51.0</td>\n",
              "      <td>22.074100</td>\n",
              "      <td>1.0</td>\n",
              "    </tr>\n",
              "    <tr>\n",
              "      <th>389</th>\n",
              "      <td>38.0</td>\n",
              "      <td>25.0</td>\n",
              "      <td>11.2</td>\n",
              "      <td>1.0</td>\n",
              "      <td>144.0</td>\n",
              "      <td>150.0</td>\n",
              "      <td>1.50</td>\n",
              "      <td>45.0</td>\n",
              "      <td>20.000000</td>\n",
              "      <td>2.0</td>\n",
              "    </tr>\n",
              "    <tr>\n",
              "      <th>390</th>\n",
              "      <td>35.0</td>\n",
              "      <td>27.0</td>\n",
              "      <td>11.9</td>\n",
              "      <td>1.0</td>\n",
              "      <td>60.0</td>\n",
              "      <td>156.0</td>\n",
              "      <td>1.56</td>\n",
              "      <td>55.0</td>\n",
              "      <td>22.600263</td>\n",
              "      <td>1.0</td>\n",
              "    </tr>\n",
              "    <tr>\n",
              "      <th>391</th>\n",
              "      <td>30.0</td>\n",
              "      <td>28.0</td>\n",
              "      <td>11.6</td>\n",
              "      <td>1.0</td>\n",
              "      <td>96.0</td>\n",
              "      <td>153.0</td>\n",
              "      <td>1.53</td>\n",
              "      <td>60.0</td>\n",
              "      <td>25.631167</td>\n",
              "      <td>1.0</td>\n",
              "    </tr>\n",
              "    <tr>\n",
              "      <th>392</th>\n",
              "      <td>26.0</td>\n",
              "      <td>26.0</td>\n",
              "      <td>13.2</td>\n",
              "      <td>1.0</td>\n",
              "      <td>60.0</td>\n",
              "      <td>150.0</td>\n",
              "      <td>1.50</td>\n",
              "      <td>50.0</td>\n",
              "      <td>22.222222</td>\n",
              "      <td>1.0</td>\n",
              "    </tr>\n",
              "  </tbody>\n",
              "</table>\n",
              "<p>393 rows × 10 columns</p>\n",
              "</div>"
            ],
            "text/plain": [
              "     Usia (Tahun)  Lila (cm)  Hb (gr%)  ...  BB hamil (kg)        IMT  risiko hamil\n",
              "0            32.0       25.0      11.3  ...           49.0  19.628265           1.0\n",
              "1            29.0       24.0      11.4  ...           49.0  20.932120           1.0\n",
              "2            23.0       27.0      12.0  ...           49.0  20.932120           1.0\n",
              "3            28.0       28.0      11.6  ...           60.0  24.973985           1.0\n",
              "4            24.0       28.0      12.0  ...           58.0  25.777778           1.0\n",
              "..            ...        ...       ...  ...            ...        ...           ...\n",
              "388          26.0       24.0      12.6  ...           51.0  22.074100           1.0\n",
              "389          38.0       25.0      11.2  ...           45.0  20.000000           2.0\n",
              "390          35.0       27.0      11.9  ...           55.0  22.600263           1.0\n",
              "391          30.0       28.0      11.6  ...           60.0  25.631167           1.0\n",
              "392          26.0       26.0      13.2  ...           50.0  22.222222           1.0\n",
              "\n",
              "[393 rows x 10 columns]"
            ]
          },
          "metadata": {},
          "execution_count": 47
        }
      ]
    },
    {
      "cell_type": "code",
      "metadata": {
        "colab": {
          "base_uri": "https://localhost:8080/"
        },
        "id": "5Czae616PJxx",
        "outputId": "a247fb89-fc6c-4707-a241-821064650d07"
      },
      "source": [
        "from google.colab import drive\n",
        "drive.mount('/content/drive')"
      ],
      "id": "5Czae616PJxx",
      "execution_count": null,
      "outputs": [
        {
          "output_type": "stream",
          "name": "stdout",
          "text": [
            "Drive already mounted at /content/drive; to attempt to forcibly remount, call drive.mount(\"/content/drive\", force_remount=True).\n"
          ]
        }
      ]
    },
    {
      "cell_type": "code",
      "metadata": {
        "id": "13018bf2-af90-41b4-92c7-869156a640ca",
        "colab": {
          "base_uri": "https://localhost:8080/",
          "height": 424
        },
        "outputId": "5c9af7e8-8b33-4c40-db11-8d8f7aabb071"
      },
      "source": [
        "data = data.drop('Tinggi Badan(m)', 1)\n",
        "data"
      ],
      "id": "13018bf2-af90-41b4-92c7-869156a640ca",
      "execution_count": null,
      "outputs": [
        {
          "output_type": "execute_result",
          "data": {
            "text/html": [
              "<div>\n",
              "<style scoped>\n",
              "    .dataframe tbody tr th:only-of-type {\n",
              "        vertical-align: middle;\n",
              "    }\n",
              "\n",
              "    .dataframe tbody tr th {\n",
              "        vertical-align: top;\n",
              "    }\n",
              "\n",
              "    .dataframe thead th {\n",
              "        text-align: right;\n",
              "    }\n",
              "</style>\n",
              "<table border=\"1\" class=\"dataframe\">\n",
              "  <thead>\n",
              "    <tr style=\"text-align: right;\">\n",
              "      <th></th>\n",
              "      <th>Usia (Tahun)</th>\n",
              "      <th>Lila (cm)</th>\n",
              "      <th>Hb (gr%)</th>\n",
              "      <th>Paritas</th>\n",
              "      <th>Interval (bulan)</th>\n",
              "      <th>Tinggi Badan(cm)</th>\n",
              "      <th>BB hamil (kg)</th>\n",
              "      <th>IMT</th>\n",
              "      <th>risiko hamil</th>\n",
              "    </tr>\n",
              "  </thead>\n",
              "  <tbody>\n",
              "    <tr>\n",
              "      <th>0</th>\n",
              "      <td>32.0</td>\n",
              "      <td>25.0</td>\n",
              "      <td>11.3</td>\n",
              "      <td>1.0</td>\n",
              "      <td>48.0</td>\n",
              "      <td>158.0</td>\n",
              "      <td>49.0</td>\n",
              "      <td>19.628265</td>\n",
              "      <td>1.0</td>\n",
              "    </tr>\n",
              "    <tr>\n",
              "      <th>1</th>\n",
              "      <td>29.0</td>\n",
              "      <td>24.0</td>\n",
              "      <td>11.4</td>\n",
              "      <td>1.0</td>\n",
              "      <td>96.0</td>\n",
              "      <td>153.0</td>\n",
              "      <td>49.0</td>\n",
              "      <td>20.932120</td>\n",
              "      <td>1.0</td>\n",
              "    </tr>\n",
              "    <tr>\n",
              "      <th>2</th>\n",
              "      <td>23.0</td>\n",
              "      <td>27.0</td>\n",
              "      <td>12.0</td>\n",
              "      <td>0.0</td>\n",
              "      <td>0.0</td>\n",
              "      <td>153.0</td>\n",
              "      <td>49.0</td>\n",
              "      <td>20.932120</td>\n",
              "      <td>1.0</td>\n",
              "    </tr>\n",
              "    <tr>\n",
              "      <th>3</th>\n",
              "      <td>28.0</td>\n",
              "      <td>28.0</td>\n",
              "      <td>11.6</td>\n",
              "      <td>0.0</td>\n",
              "      <td>0.0</td>\n",
              "      <td>155.0</td>\n",
              "      <td>60.0</td>\n",
              "      <td>24.973985</td>\n",
              "      <td>1.0</td>\n",
              "    </tr>\n",
              "    <tr>\n",
              "      <th>4</th>\n",
              "      <td>24.0</td>\n",
              "      <td>28.0</td>\n",
              "      <td>12.0</td>\n",
              "      <td>1.0</td>\n",
              "      <td>72.0</td>\n",
              "      <td>150.0</td>\n",
              "      <td>58.0</td>\n",
              "      <td>25.777778</td>\n",
              "      <td>1.0</td>\n",
              "    </tr>\n",
              "    <tr>\n",
              "      <th>...</th>\n",
              "      <td>...</td>\n",
              "      <td>...</td>\n",
              "      <td>...</td>\n",
              "      <td>...</td>\n",
              "      <td>...</td>\n",
              "      <td>...</td>\n",
              "      <td>...</td>\n",
              "      <td>...</td>\n",
              "      <td>...</td>\n",
              "    </tr>\n",
              "    <tr>\n",
              "      <th>388</th>\n",
              "      <td>26.0</td>\n",
              "      <td>24.0</td>\n",
              "      <td>12.6</td>\n",
              "      <td>0.0</td>\n",
              "      <td>0.0</td>\n",
              "      <td>152.0</td>\n",
              "      <td>51.0</td>\n",
              "      <td>22.074100</td>\n",
              "      <td>1.0</td>\n",
              "    </tr>\n",
              "    <tr>\n",
              "      <th>389</th>\n",
              "      <td>38.0</td>\n",
              "      <td>25.0</td>\n",
              "      <td>11.2</td>\n",
              "      <td>1.0</td>\n",
              "      <td>144.0</td>\n",
              "      <td>150.0</td>\n",
              "      <td>45.0</td>\n",
              "      <td>20.000000</td>\n",
              "      <td>2.0</td>\n",
              "    </tr>\n",
              "    <tr>\n",
              "      <th>390</th>\n",
              "      <td>35.0</td>\n",
              "      <td>27.0</td>\n",
              "      <td>11.9</td>\n",
              "      <td>1.0</td>\n",
              "      <td>60.0</td>\n",
              "      <td>156.0</td>\n",
              "      <td>55.0</td>\n",
              "      <td>22.600263</td>\n",
              "      <td>1.0</td>\n",
              "    </tr>\n",
              "    <tr>\n",
              "      <th>391</th>\n",
              "      <td>30.0</td>\n",
              "      <td>28.0</td>\n",
              "      <td>11.6</td>\n",
              "      <td>1.0</td>\n",
              "      <td>96.0</td>\n",
              "      <td>153.0</td>\n",
              "      <td>60.0</td>\n",
              "      <td>25.631167</td>\n",
              "      <td>1.0</td>\n",
              "    </tr>\n",
              "    <tr>\n",
              "      <th>392</th>\n",
              "      <td>26.0</td>\n",
              "      <td>26.0</td>\n",
              "      <td>13.2</td>\n",
              "      <td>1.0</td>\n",
              "      <td>60.0</td>\n",
              "      <td>150.0</td>\n",
              "      <td>50.0</td>\n",
              "      <td>22.222222</td>\n",
              "      <td>1.0</td>\n",
              "    </tr>\n",
              "  </tbody>\n",
              "</table>\n",
              "<p>393 rows × 9 columns</p>\n",
              "</div>"
            ],
            "text/plain": [
              "     Usia (Tahun)  Lila (cm)  Hb (gr%)  ...  BB hamil (kg)        IMT  risiko hamil\n",
              "0            32.0       25.0      11.3  ...           49.0  19.628265           1.0\n",
              "1            29.0       24.0      11.4  ...           49.0  20.932120           1.0\n",
              "2            23.0       27.0      12.0  ...           49.0  20.932120           1.0\n",
              "3            28.0       28.0      11.6  ...           60.0  24.973985           1.0\n",
              "4            24.0       28.0      12.0  ...           58.0  25.777778           1.0\n",
              "..            ...        ...       ...  ...            ...        ...           ...\n",
              "388          26.0       24.0      12.6  ...           51.0  22.074100           1.0\n",
              "389          38.0       25.0      11.2  ...           45.0  20.000000           2.0\n",
              "390          35.0       27.0      11.9  ...           55.0  22.600263           1.0\n",
              "391          30.0       28.0      11.6  ...           60.0  25.631167           1.0\n",
              "392          26.0       26.0      13.2  ...           50.0  22.222222           1.0\n",
              "\n",
              "[393 rows x 9 columns]"
            ]
          },
          "metadata": {},
          "execution_count": 49
        }
      ]
    },
    {
      "cell_type": "code",
      "metadata": {
        "id": "295f097d-105c-4021-bd6d-431758e42137",
        "colab": {
          "base_uri": "https://localhost:8080/",
          "height": 365
        },
        "outputId": "b8d73df3-b99d-4907-e8b7-105bbbab2edf"
      },
      "source": [
        "import seaborn as sns\n",
        "sns.heatmap(data.corr(), annot=True, fmt='.2f', linewidths=2)"
      ],
      "id": "295f097d-105c-4021-bd6d-431758e42137",
      "execution_count": null,
      "outputs": [
        {
          "output_type": "execute_result",
          "data": {
            "text/plain": [
              "<matplotlib.axes._subplots.AxesSubplot at 0x7f41f1445a10>"
            ]
          },
          "metadata": {},
          "execution_count": 50
        },
        {
          "output_type": "display_data",
          "data": {
            "image/png": "[encoded data removed]",
            "text/plain": [
              "<Figure size 432x288 with 2 Axes>"
            ]
          },
          "metadata": {
            "needs_background": "light"
          }
        }
      ]
    },
    {
      "cell_type": "code",
      "metadata": {
        "id": "8398c241-d077-4221-bbd8-1ee2d89b0aec",
        "colab": {
          "base_uri": "https://localhost:8080/",
          "height": 339
        },
        "outputId": "2cad493e-301f-4f51-f6b7-c2d1b12f876c"
      },
      "source": [
        "arrData = np.array(data)\n",
        "mean = [\n",
        "        stat.mean(arrData[:,0]),\n",
        "        stat.mean(arrData[:,1]),\n",
        "        stat.mean(arrData[:,2]),\n",
        "        stat.mean(arrData[:,3]),\n",
        "        stat.mean(arrData[:,4]),\n",
        "        stat.mean(arrData[:,5]),\n",
        "        stat.mean(arrData[:,6]),\n",
        "        stat.mean(arrData[:,7]),\n",
        "        stat.mean(arrData[:,8])\n",
        "]\n",
        "legends = ['Usia (Tahun)','Lila (cm)','Hb (gr%)','Paritas','Interval (bulan)',\n",
        "           'Tinggi Badan(cm)','BB hamil (kg)','IMT','risiko hamil']\n",
        "\n",
        "fig = plt.figure()\n",
        "ax = fig.add_axes([0,0,1,1])\n",
        "ax.bar(legends,mean)\n",
        "plt.show()\n"
      ],
      "id": "8398c241-d077-4221-bbd8-1ee2d89b0aec",
      "execution_count": null,
      "outputs": [
        {
          "output_type": "display_data",
          "data": {
            "image/png": "[encoded data removed]",
            "text/plain": [
              "<Figure size 432x288 with 1 Axes>"
            ]
          },
          "metadata": {
            "needs_background": "light"
          }
        }
      ]
    },
    {
      "cell_type": "code",
      "metadata": {
        "id": "JDAD80JnA5kQ",
        "colab": {
          "base_uri": "https://localhost:8080/",
          "height": 143
        },
        "outputId": "3469e5f6-3aa9-4c2f-d679-41560c0d493d"
      },
      "source": [
        "data.quantile([.25, .5, .75], axis = 0)"
      ],
      "id": "JDAD80JnA5kQ",
      "execution_count": null,
      "outputs": [
        {
          "output_type": "execute_result",
          "data": {
            "text/html": [
              "<div>\n",
              "<style scoped>\n",
              "    .dataframe tbody tr th:only-of-type {\n",
              "        vertical-align: middle;\n",
              "    }\n",
              "\n",
              "    .dataframe tbody tr th {\n",
              "        vertical-align: top;\n",
              "    }\n",
              "\n",
              "    .dataframe thead th {\n",
              "        text-align: right;\n",
              "    }\n",
              "</style>\n",
              "<table border=\"1\" class=\"dataframe\">\n",
              "  <thead>\n",
              "    <tr style=\"text-align: right;\">\n",
              "      <th></th>\n",
              "      <th>Usia (Tahun)</th>\n",
              "      <th>Lila (cm)</th>\n",
              "      <th>Hb (gr%)</th>\n",
              "      <th>Paritas</th>\n",
              "      <th>Interval (bulan)</th>\n",
              "      <th>Tinggi Badan(cm)</th>\n",
              "      <th>BB hamil (kg)</th>\n",
              "      <th>IMT</th>\n",
              "      <th>risiko hamil</th>\n",
              "    </tr>\n",
              "  </thead>\n",
              "  <tbody>\n",
              "    <tr>\n",
              "      <th>0.25</th>\n",
              "      <td>24.0</td>\n",
              "      <td>24.0</td>\n",
              "      <td>11.0</td>\n",
              "      <td>0.0</td>\n",
              "      <td>0.0</td>\n",
              "      <td>150.0</td>\n",
              "      <td>47.0</td>\n",
              "      <td>20.291341</td>\n",
              "      <td>1.0</td>\n",
              "    </tr>\n",
              "    <tr>\n",
              "      <th>0.50</th>\n",
              "      <td>28.0</td>\n",
              "      <td>26.0</td>\n",
              "      <td>11.3</td>\n",
              "      <td>1.0</td>\n",
              "      <td>42.0</td>\n",
              "      <td>153.0</td>\n",
              "      <td>52.5</td>\n",
              "      <td>22.506925</td>\n",
              "      <td>1.0</td>\n",
              "    </tr>\n",
              "    <tr>\n",
              "      <th>0.75</th>\n",
              "      <td>32.0</td>\n",
              "      <td>28.0</td>\n",
              "      <td>11.6</td>\n",
              "      <td>1.0</td>\n",
              "      <td>72.0</td>\n",
              "      <td>155.0</td>\n",
              "      <td>60.0</td>\n",
              "      <td>25.654372</td>\n",
              "      <td>2.0</td>\n",
              "    </tr>\n",
              "  </tbody>\n",
              "</table>\n",
              "</div>"
            ],
            "text/plain": [
              "      Usia (Tahun)  Lila (cm)  Hb (gr%)  ...  BB hamil (kg)        IMT  risiko hamil\n",
              "0.25          24.0       24.0      11.0  ...           47.0  20.291341           1.0\n",
              "0.50          28.0       26.0      11.3  ...           52.5  22.506925           1.0\n",
              "0.75          32.0       28.0      11.6  ...           60.0  25.654372           2.0\n",
              "\n",
              "[3 rows x 9 columns]"
            ]
          },
          "metadata": {},
          "execution_count": 52
        }
      ]
    },
    {
      "cell_type": "code",
      "metadata": {
        "id": "k3dvbKkrEPQF",
        "colab": {
          "base_uri": "https://localhost:8080/",
          "height": 282
        },
        "outputId": "89b46af0-36e3-49c5-b835-6740983f41e7"
      },
      "source": [
        "sns.boxplot(data=data, orient=\"h\", palette=\"Set2\")"
      ],
      "id": "k3dvbKkrEPQF",
      "execution_count": null,
      "outputs": [
        {
          "output_type": "execute_result",
          "data": {
            "text/plain": [
              "<matplotlib.axes._subplots.AxesSubplot at 0x7f41f146a850>"
            ]
          },
          "metadata": {},
          "execution_count": 53
        },
        {
          "output_type": "display_data",
          "data": {
            "image/png": "[encoded data removed]",
            "text/plain": [
              "<Figure size 432x288 with 1 Axes>"
            ]
          },
          "metadata": {
            "needs_background": "light"
          }
        }
      ]
    },
    {
      "cell_type": "code",
      "metadata": {
        "id": "4uoii78MERul",
        "colab": {
          "base_uri": "https://localhost:8080/",
          "height": 282
        },
        "outputId": "b6fc4051-e392-408b-f2e4-378285d86abe"
      },
      "source": [
        "sns.boxplot(data=data[['Usia (Tahun)','Lila (cm)', 'BB hamil (kg)', 'IMT']], orient=\"h\", palette=\"Set2\")"
      ],
      "id": "4uoii78MERul",
      "execution_count": null,
      "outputs": [
        {
          "output_type": "execute_result",
          "data": {
            "text/plain": [
              "<matplotlib.axes._subplots.AxesSubplot at 0x7f41f114ed50>"
            ]
          },
          "metadata": {},
          "execution_count": 54
        },
        {
          "output_type": "display_data",
          "data": {
            "image/png": "[encoded data removed]",
            "text/plain": [
              "<Figure size 432x288 with 1 Axes>"
            ]
          },
          "metadata": {
            "needs_background": "light"
          }
        }
      ]
    },
    {
      "cell_type": "code",
      "metadata": {
        "id": "rB1xXYPpETgY",
        "colab": {
          "base_uri": "https://localhost:8080/",
          "height": 282
        },
        "outputId": "7999edab-d8ad-4225-d98f-4b98ae017141"
      },
      "source": [
        "sns.boxplot(data=data[['Hb (gr%)','Paritas']], orient=\"h\", palette=\"Set2\")"
      ],
      "id": "rB1xXYPpETgY",
      "execution_count": null,
      "outputs": [
        {
          "output_type": "execute_result",
          "data": {
            "text/plain": [
              "<matplotlib.axes._subplots.AxesSubplot at 0x7f41f649b210>"
            ]
          },
          "metadata": {},
          "execution_count": 55
        },
        {
          "output_type": "display_data",
          "data": {
            "image/png": "[encoded data removed]",
            "text/plain": [
              "<Figure size 432x288 with 1 Axes>"
            ]
          },
          "metadata": {
            "needs_background": "light"
          }
        }
      ]
    },
    {
      "cell_type": "code",
      "metadata": {
        "id": "1AJ8836oEVO7",
        "colab": {
          "base_uri": "https://localhost:8080/",
          "height": 282
        },
        "outputId": "aaf58626-6eea-4215-eeb8-518ff893f9d3"
      },
      "source": [
        "sns.boxplot(data=data[['Tinggi Badan(cm)']], orient=\"h\", palette=\"Set2\")"
      ],
      "id": "1AJ8836oEVO7",
      "execution_count": null,
      "outputs": [
        {
          "output_type": "execute_result",
          "data": {
            "text/plain": [
              "<matplotlib.axes._subplots.AxesSubplot at 0x7f41f7843610>"
            ]
          },
          "metadata": {},
          "execution_count": 56
        },
        {
          "output_type": "display_data",
          "data": {
            "image/png": "[encoded data removed]",
            "text/plain": [
              "<Figure size 432x288 with 1 Axes>"
            ]
          },
          "metadata": {
            "needs_background": "light"
          }
        }
      ]
    },
    {
      "cell_type": "code",
      "metadata": {
        "id": "_v9KDcNVEXjd",
        "colab": {
          "base_uri": "https://localhost:8080/",
          "height": 282
        },
        "outputId": "4826d110-454a-4cd8-f0ab-2c54e8da1442"
      },
      "source": [
        "sns.boxplot(data=data[['Interval (bulan)']], orient=\"h\", palette=\"Set2\")"
      ],
      "id": "_v9KDcNVEXjd",
      "execution_count": null,
      "outputs": [
        {
          "output_type": "execute_result",
          "data": {
            "text/plain": [
              "<matplotlib.axes._subplots.AxesSubplot at 0x7f4205ae5d90>"
            ]
          },
          "metadata": {},
          "execution_count": 57
        },
        {
          "output_type": "display_data",
          "data": {
            "image/png": "[encoded data removed]",
            "text/plain": [
              "<Figure size 432x288 with 1 Axes>"
            ]
          },
          "metadata": {
            "needs_background": "light"
          }
        }
      ]
    },
    {
      "cell_type": "code",
      "metadata": {
        "id": "6LbkacnsEbSJ",
        "colab": {
          "base_uri": "https://localhost:8080/",
          "height": 424
        },
        "outputId": "ac779f6d-f930-4485-dbb1-fdf11fc5e6f1"
      },
      "source": [
        "# 0 = bukan stunting\n",
        "# 1 = stunting\n",
        "data['risiko hamil'] = data['risiko hamil'].apply(lambda value: 0 if value == 1 else 1)\n",
        "data"
      ],
      "id": "6LbkacnsEbSJ",
      "execution_count": null,
      "outputs": [
        {
          "output_type": "execute_result",
          "data": {
            "text/html": [
              "<div>\n",
              "<style scoped>\n",
              "    .dataframe tbody tr th:only-of-type {\n",
              "        vertical-align: middle;\n",
              "    }\n",
              "\n",
              "    .dataframe tbody tr th {\n",
              "        vertical-align: top;\n",
              "    }\n",
              "\n",
              "    .dataframe thead th {\n",
              "        text-align: right;\n",
              "    }\n",
              "</style>\n",
              "<table border=\"1\" class=\"dataframe\">\n",
              "  <thead>\n",
              "    <tr style=\"text-align: right;\">\n",
              "      <th></th>\n",
              "      <th>Usia (Tahun)</th>\n",
              "      <th>Lila (cm)</th>\n",
              "      <th>Hb (gr%)</th>\n",
              "      <th>Paritas</th>\n",
              "      <th>Interval (bulan)</th>\n",
              "      <th>Tinggi Badan(cm)</th>\n",
              "      <th>BB hamil (kg)</th>\n",
              "      <th>IMT</th>\n",
              "      <th>risiko hamil</th>\n",
              "    </tr>\n",
              "  </thead>\n",
              "  <tbody>\n",
              "    <tr>\n",
              "      <th>0</th>\n",
              "      <td>32.0</td>\n",
              "      <td>25.0</td>\n",
              "      <td>11.3</td>\n",
              "      <td>1.0</td>\n",
              "      <td>48.0</td>\n",
              "      <td>158.0</td>\n",
              "      <td>49.0</td>\n",
              "      <td>19.628265</td>\n",
              "      <td>0</td>\n",
              "    </tr>\n",
              "    <tr>\n",
              "      <th>1</th>\n",
              "      <td>29.0</td>\n",
              "      <td>24.0</td>\n",
              "      <td>11.4</td>\n",
              "      <td>1.0</td>\n",
              "      <td>96.0</td>\n",
              "      <td>153.0</td>\n",
              "      <td>49.0</td>\n",
              "      <td>20.932120</td>\n",
              "      <td>0</td>\n",
              "    </tr>\n",
              "    <tr>\n",
              "      <th>2</th>\n",
              "      <td>23.0</td>\n",
              "      <td>27.0</td>\n",
              "      <td>12.0</td>\n",
              "      <td>0.0</td>\n",
              "      <td>0.0</td>\n",
              "      <td>153.0</td>\n",
              "      <td>49.0</td>\n",
              "      <td>20.932120</td>\n",
              "      <td>0</td>\n",
              "    </tr>\n",
              "    <tr>\n",
              "      <th>3</th>\n",
              "      <td>28.0</td>\n",
              "      <td>28.0</td>\n",
              "      <td>11.6</td>\n",
              "      <td>0.0</td>\n",
              "      <td>0.0</td>\n",
              "      <td>155.0</td>\n",
              "      <td>60.0</td>\n",
              "      <td>24.973985</td>\n",
              "      <td>0</td>\n",
              "    </tr>\n",
              "    <tr>\n",
              "      <th>4</th>\n",
              "      <td>24.0</td>\n",
              "      <td>28.0</td>\n",
              "      <td>12.0</td>\n",
              "      <td>1.0</td>\n",
              "      <td>72.0</td>\n",
              "      <td>150.0</td>\n",
              "      <td>58.0</td>\n",
              "      <td>25.777778</td>\n",
              "      <td>0</td>\n",
              "    </tr>\n",
              "    <tr>\n",
              "      <th>...</th>\n",
              "      <td>...</td>\n",
              "      <td>...</td>\n",
              "      <td>...</td>\n",
              "      <td>...</td>\n",
              "      <td>...</td>\n",
              "      <td>...</td>\n",
              "      <td>...</td>\n",
              "      <td>...</td>\n",
              "      <td>...</td>\n",
              "    </tr>\n",
              "    <tr>\n",
              "      <th>388</th>\n",
              "      <td>26.0</td>\n",
              "      <td>24.0</td>\n",
              "      <td>12.6</td>\n",
              "      <td>0.0</td>\n",
              "      <td>0.0</td>\n",
              "      <td>152.0</td>\n",
              "      <td>51.0</td>\n",
              "      <td>22.074100</td>\n",
              "      <td>0</td>\n",
              "    </tr>\n",
              "    <tr>\n",
              "      <th>389</th>\n",
              "      <td>38.0</td>\n",
              "      <td>25.0</td>\n",
              "      <td>11.2</td>\n",
              "      <td>1.0</td>\n",
              "      <td>144.0</td>\n",
              "      <td>150.0</td>\n",
              "      <td>45.0</td>\n",
              "      <td>20.000000</td>\n",
              "      <td>1</td>\n",
              "    </tr>\n",
              "    <tr>\n",
              "      <th>390</th>\n",
              "      <td>35.0</td>\n",
              "      <td>27.0</td>\n",
              "      <td>11.9</td>\n",
              "      <td>1.0</td>\n",
              "      <td>60.0</td>\n",
              "      <td>156.0</td>\n",
              "      <td>55.0</td>\n",
              "      <td>22.600263</td>\n",
              "      <td>0</td>\n",
              "    </tr>\n",
              "    <tr>\n",
              "      <th>391</th>\n",
              "      <td>30.0</td>\n",
              "      <td>28.0</td>\n",
              "      <td>11.6</td>\n",
              "      <td>1.0</td>\n",
              "      <td>96.0</td>\n",
              "      <td>153.0</td>\n",
              "      <td>60.0</td>\n",
              "      <td>25.631167</td>\n",
              "      <td>0</td>\n",
              "    </tr>\n",
              "    <tr>\n",
              "      <th>392</th>\n",
              "      <td>26.0</td>\n",
              "      <td>26.0</td>\n",
              "      <td>13.2</td>\n",
              "      <td>1.0</td>\n",
              "      <td>60.0</td>\n",
              "      <td>150.0</td>\n",
              "      <td>50.0</td>\n",
              "      <td>22.222222</td>\n",
              "      <td>0</td>\n",
              "    </tr>\n",
              "  </tbody>\n",
              "</table>\n",
              "<p>393 rows × 9 columns</p>\n",
              "</div>"
            ],
            "text/plain": [
              "     Usia (Tahun)  Lila (cm)  Hb (gr%)  ...  BB hamil (kg)        IMT  risiko hamil\n",
              "0            32.0       25.0      11.3  ...           49.0  19.628265             0\n",
              "1            29.0       24.0      11.4  ...           49.0  20.932120             0\n",
              "2            23.0       27.0      12.0  ...           49.0  20.932120             0\n",
              "3            28.0       28.0      11.6  ...           60.0  24.973985             0\n",
              "4            24.0       28.0      12.0  ...           58.0  25.777778             0\n",
              "..            ...        ...       ...  ...            ...        ...           ...\n",
              "388          26.0       24.0      12.6  ...           51.0  22.074100             0\n",
              "389          38.0       25.0      11.2  ...           45.0  20.000000             1\n",
              "390          35.0       27.0      11.9  ...           55.0  22.600263             0\n",
              "391          30.0       28.0      11.6  ...           60.0  25.631167             0\n",
              "392          26.0       26.0      13.2  ...           50.0  22.222222             0\n",
              "\n",
              "[393 rows x 9 columns]"
            ]
          },
          "metadata": {},
          "execution_count": 58
        }
      ]
    },
    {
      "cell_type": "code",
      "metadata": {
        "id": "JD0J13EWEewe",
        "colab": {
          "base_uri": "https://localhost:8080/",
          "height": 351
        },
        "outputId": "258eb688-8f95-46f8-8c4a-2e87b59a7ee6"
      },
      "source": [
        "sns.countplot(data['risiko hamil'])"
      ],
      "id": "JD0J13EWEewe",
      "execution_count": null,
      "outputs": [
        {
          "output_type": "stream",
          "name": "stderr",
          "text": [
            "/usr/local/lib/python3.7/dist-packages/seaborn/_decorators.py:43: FutureWarning: Pass the following variable as a keyword arg: x. From version 0.12, the only valid positional argument will be `data`, and passing other arguments without an explicit keyword will result in an error or misinterpretation.\n",
            "  FutureWarning\n"
          ]
        },
        {
          "output_type": "execute_result",
          "data": {
            "text/plain": [
              "<matplotlib.axes._subplots.AxesSubplot at 0x7f41f80b9710>"
            ]
          },
          "metadata": {},
          "execution_count": 59
        },
        {
          "output_type": "display_data",
          "data": {
            "image/png": "[encoded data removed]",
            "text/plain": [
              "<Figure size 432x288 with 1 Axes>"
            ]
          },
          "metadata": {
            "needs_background": "light"
          }
        }
      ]
    },
    {
      "cell_type": "code",
      "metadata": {
        "id": "x3mof1HGEi3Y",
        "colab": {
          "base_uri": "https://localhost:8080/"
        },
        "outputId": "c9797524-cb15-42e0-ce0e-2a888be0f414"
      },
      "source": [
        "from sklearn.model_selection import train_test_split\n",
        "\n",
        "X = data.drop('risiko hamil', axis=1)\n",
        "y = data['risiko hamil']\n",
        "\n",
        "X_train, X_test, y_train, y_test = train_test_split(\n",
        "    X, y, test_size=0.2, shuffle=False\n",
        ")\n",
        "\n",
        "print(\"Jumlah Data Train : {0}\".format(len(X_train)))\n",
        "print(\"Jumlah Data Test : {0}\".format(len(X_test)))"
      ],
      "id": "x3mof1HGEi3Y",
      "execution_count": null,
      "outputs": [
        {
          "output_type": "stream",
          "name": "stdout",
          "text": [
            "Jumlah Data Train : 314\n",
            "Jumlah Data Test : 79\n"
          ]
        }
      ]
    },
    {
      "cell_type": "code",
      "metadata": {
        "id": "Q8etSToE-o7E"
      },
      "source": [
        "history =  pd.DataFrame(columns=['model', 'fprs', 'tprs', 'auc_score', 'acc', 'recall', 'precision'])\n",
        "history\n",
        "\n",
        "model = [\"Random Forest\", \"SVM\", \"XGBoost\"]\n",
        "test_fprs = [] \n",
        "test_tprs = []\n",
        "auc_scores = []\n",
        "accs = []\n",
        "recalls = []\n",
        "precisions = []"
      ],
      "id": "Q8etSToE-o7E",
      "execution_count": null,
      "outputs": []
    },
    {
      "cell_type": "code",
      "metadata": {
        "id": "H2gfZf6mOQzT"
      },
      "source": [
        "from sklearn.metrics import roc_curve, auc\n",
        "import numpy as np\n",
        "\n",
        "def plot_roc_curve(fprs, tprs):\n",
        "    \"\"\"Plot the Receiver Operating Characteristic from a list\n",
        "    of true positive rates and false positive rates.\"\"\"\n",
        "    \n",
        "    # Initialize useful lists + the plot axes.\n",
        "    tprs_interp = []\n",
        "    aucs = []\n",
        "    mean_fpr = np.linspace(0, 1, 100)\n",
        "    f, ax = plt.subplots(figsize=(14,10))\n",
        "    \n",
        "    # Plot ROC for each K-Fold + compute AUC scores.\n",
        "    for i, (fpr, tpr) in enumerate(zip(fprs, tprs)):\n",
        "        tprs_interp.append(np.interp(mean_fpr, fpr, tpr))\n",
        "        tprs_interp[-1][0] = 0.0\n",
        "        roc_auc = auc(fpr, tpr)\n",
        "        aucs.append(roc_auc)\n",
        "        ax.plot(fpr, tpr, lw=1, alpha=0.3,\n",
        "                 label='ROC fold %d (AUC = %0.2f)' % (i, roc_auc))\n",
        "        \n",
        "    # Plot the luck line.\n",
        "    plt.plot([0, 1], [0, 1], linestyle='--', lw=2, color='r',\n",
        "             label='Luck', alpha=.8)\n",
        "    \n",
        "    # Plot the mean ROC.\n",
        "    mean_tpr = np.mean(tprs_interp, axis=0)\n",
        "    mean_tpr[-1] = 1.0\n",
        "    mean_auc = auc(mean_fpr, mean_tpr)\n",
        "    std_auc = np.std(aucs)\n",
        "    ax.plot(mean_fpr, mean_tpr, color='b',\n",
        "             label=r'Mean ROC (AUC = %0.2f $\\pm$ %0.2f)' % (mean_auc, std_auc),\n",
        "             lw=2, alpha=.8)\n",
        "    \n",
        "    # Plot the standard deviation around the mean ROC.\n",
        "    std_tpr = np.std(tprs_interp, axis=0)\n",
        "    tprs_upper = np.minimum(mean_tpr + std_tpr, 1)\n",
        "    tprs_lower = np.maximum(mean_tpr - std_tpr, 0)\n",
        "    ax.fill_between(mean_fpr, tprs_lower, tprs_upper, color='grey', alpha=.2,\n",
        "                     label=r'$\\pm$ 1 std. dev.')\n",
        "    \n",
        "    # Fine tune and show the plot.\n",
        "    ax.set_xlim([-0.05, 1.05])\n",
        "    ax.set_ylim([-0.05, 1.05])\n",
        "    ax.set_xlabel('False Positive Rate')\n",
        "    ax.set_ylabel('True Positive Rate')\n",
        "    ax.set_title('Receiver operating characteristic')\n",
        "    ax.legend(loc=\"lower right\")\n",
        "    plt.show()\n",
        "    return (f, ax)\n",
        "\n",
        "def compute_roc_auc(index):\n",
        "    y_predict = clf.predict_proba(X_train.iloc[index])[:,1]\n",
        "    fpr, tpr, thresholds = roc_curve(y_train.iloc[index], y_predict)\n",
        "    auc_score = auc(fpr, tpr)\n",
        "    return fpr, tpr, auc_score"
      ],
      "id": "H2gfZf6mOQzT",
      "execution_count": null,
      "outputs": []
    },
    {
      "cell_type": "code",
      "metadata": {
        "id": "gBBpzpEmSK06"
      },
      "source": [
        "from sklearn.metrics import accuracy_score, recall_score, precision_score, confusion_matrix\n",
        "\n",
        "def performance_meansure(X_test):\n",
        "  acc = accuracy_score(y_test, preds)\n",
        "  recall = recall_score(y_test, preds)\n",
        "  precision = precision_score(y_test, preds)\n",
        "\n",
        "  print(\"Accuracy = {0} \\nRecall = {1} \\nPrecision = {2}\".format(acc, recall,precision))\n",
        "  cm = confusion_matrix(y_test, preds)\n",
        "  plt.figure(figsize=(8, 6))\n",
        "  plt.title('Confusion Matrix', size=16)\n",
        "  sns.heatmap(cm, annot=True, cmap='Blues');\n",
        "\n",
        "  accs.append(acc)\n",
        "  recalls.append(recall)\n",
        "  precisions.append(precision)\n"
      ],
      "id": "gBBpzpEmSK06",
      "execution_count": null,
      "outputs": []
    },
    {
      "cell_type": "markdown",
      "metadata": {
        "id": "28P1yaf8Eqad"
      },
      "source": [
        "#==================== RF ==================="
      ],
      "id": "28P1yaf8Eqad"
    },
    {
      "cell_type": "code",
      "metadata": {
        "id": "JWXUZZWuE76X",
        "colab": {
          "base_uri": "https://localhost:8080/",
          "height": 725
        },
        "outputId": "9a2cc4e5-82dc-4ebf-8a66-6239a652d3c8"
      },
      "source": [
        "from sklearn.ensemble import RandomForestClassifier\n",
        "from sklearn.model_selection import StratifiedKFold\n",
        "\n",
        "clf  = RandomForestClassifier()\n",
        "\n",
        "n = 5\n",
        "cv = StratifiedKFold(n_splits=n, shuffle=False)\n",
        "results = pd.DataFrame(columns=['training_score', 'test_score'])\n",
        "fprs, tprs, scores = [], [], []\n",
        "    \n",
        "for (train, test), i in zip(cv.split(X_train, y_train), range(n)):\n",
        "    clf.fit(X_train.iloc[train], y_train.iloc[train])\n",
        "    _, _, auc_score_train = compute_roc_auc(train)\n",
        "    fpr, tpr, auc_score = compute_roc_auc(test)\n",
        "    scores.append((auc_score_train, auc_score))\n",
        "    fprs.append(fpr)\n",
        "    tprs.append(tpr)\n",
        "\n",
        "plot_roc_curve(fprs, tprs);\n",
        "score_pd=pd.DataFrame(scores, columns=['AUC Train', 'AUC Test'])\n",
        "print(score_pd)\n",
        "\n",
        "test_fprs.append(fprs)\n",
        "test_tprs.append(tprs)\n",
        "auc_scores.append(score_pd['AUC Test'])\n"
      ],
      "id": "JWXUZZWuE76X",
      "execution_count": null,
      "outputs": [
        {
          "output_type": "display_data",
          "data": {
            "image/png": "[encoded data removed]",
            "text/plain": [
              "<Figure size 1008x720 with 1 Axes>"
            ]
          },
          "metadata": {
            "needs_background": "light"
          }
        },
        {
          "output_type": "stream",
          "name": "stdout",
          "text": [
            "   AUC Train  AUC Test\n",
            "0        1.0  0.976091\n",
            "1        1.0  0.958420\n",
            "2        1.0  0.963098\n",
            "3        1.0  0.976091\n",
            "4        1.0  0.960470\n"
          ]
        }
      ]
    },
    {
      "cell_type": "code",
      "metadata": {
        "id": "kQ2313DCQCrZ",
        "colab": {
          "base_uri": "https://localhost:8080/",
          "height": 444
        },
        "outputId": "748b5f5f-ad47-44fd-de2e-d05c1683f7c9"
      },
      "source": [
        "preds = clf.predict(X_test)\n",
        "performance_meansure(X_test)"
      ],
      "id": "kQ2313DCQCrZ",
      "execution_count": null,
      "outputs": [
        {
          "output_type": "stream",
          "name": "stdout",
          "text": [
            "Accuracy = 0.8860759493670886 \n",
            "Recall = 0.8 \n",
            "Precision = 0.9333333333333333\n"
          ]
        },
        {
          "output_type": "display_data",
          "data": {
            "image/png": "[encoded data removed]",
            "text/plain": [
              "<Figure size 576x432 with 2 Axes>"
            ]
          },
          "metadata": {
            "needs_background": "light"
          }
        }
      ]
    },
    {
      "cell_type": "markdown",
      "metadata": {
        "id": "vBuVGOmAUV2r"
      },
      "source": [
        "#==================== SVM ==================="
      ],
      "id": "vBuVGOmAUV2r"
    },
    {
      "cell_type": "code",
      "metadata": {
        "id": "FuS8L45WQFhZ",
        "colab": {
          "base_uri": "https://localhost:8080/",
          "height": 725
        },
        "outputId": "ca448c95-1315-4b2e-a679-42e1f77d8474"
      },
      "source": [
        "from sklearn.pipeline import make_pipeline\n",
        "from sklearn.preprocessing import StandardScaler\n",
        "from sklearn.svm import NuSVC\n",
        "clf = make_pipeline(StandardScaler(), NuSVC(probability=True))\n",
        "\n",
        "n = 5\n",
        "cv = StratifiedKFold(n_splits=n, shuffle=False)\n",
        "results = pd.DataFrame(columns=['training_score', 'test_score'])\n",
        "fprs, tprs, scores = [], [], []\n",
        "    \n",
        "for (train, test), i in zip(cv.split(X_train, y_train), range(n)):\n",
        "    clf.fit(X_train.iloc[train], y_train.iloc[train])\n",
        "    _, _, auc_score_train = compute_roc_auc(train)\n",
        "    fpr, tpr, auc_score = compute_roc_auc(test)\n",
        "    scores.append((auc_score_train, auc_score))\n",
        "    fprs.append(fpr)\n",
        "    tprs.append(tpr)\n",
        "\n",
        "plot_roc_curve(fprs, tprs);\n",
        "score_pd=pd.DataFrame(scores, columns=['AUC Train', 'AUC Test'])\n",
        "print(score_pd)\n",
        "\n",
        "test_fprs.append(fprs)\n",
        "test_tprs.append(tprs)\n",
        "auc_scores.append(score_pd['AUC Test'])"
      ],
      "id": "FuS8L45WQFhZ",
      "execution_count": null,
      "outputs": [
        {
          "output_type": "display_data",
          "data": {
            "image/png": "[encoded data removed]",
            "text/plain": [
              "<Figure size 1008x720 with 1 Axes>"
            ]
          },
          "metadata": {
            "needs_background": "light"
          }
        },
        {
          "output_type": "stream",
          "name": "stdout",
          "text": [
            "   AUC Train  AUC Test\n",
            "0   0.962847  0.884615\n",
            "1   0.976583  0.899168\n",
            "2   0.968014  0.933472\n",
            "3   0.970369  0.914761\n",
            "4   0.972388  0.900641\n"
          ]
        }
      ]
    },
    {
      "cell_type": "code",
      "metadata": {
        "colab": {
          "base_uri": "https://localhost:8080/",
          "height": 444
        },
        "id": "n_uMcw4qVL7C",
        "outputId": "207b0ae3-1a10-4dc2-d598-1a3216cf4747"
      },
      "source": [
        "preds = clf.predict(X_test)\n",
        "performance_meansure(X_test)"
      ],
      "id": "n_uMcw4qVL7C",
      "execution_count": null,
      "outputs": [
        {
          "output_type": "stream",
          "name": "stdout",
          "text": [
            "Accuracy = 0.8481012658227848 \n",
            "Recall = 0.6857142857142857 \n",
            "Precision = 0.96\n"
          ]
        },
        {
          "output_type": "display_data",
          "data": {
            "image/png": "[encoded data removed]",
            "text/plain": [
              "<Figure size 576x432 with 2 Axes>"
            ]
          },
          "metadata": {
            "needs_background": "light"
          }
        }
      ]
    },
    {
      "cell_type": "markdown",
      "source": [
        "#==================== XGBoost ==================="
      ],
      "metadata": {
        "id": "LP0NreiQi9vP"
      },
      "id": "LP0NreiQi9vP"
    },
    {
      "cell_type": "code",
      "metadata": {
        "id": "3W2sDpRrWc1L",
        "colab": {
          "base_uri": "https://localhost:8080/",
          "height": 725
        },
        "outputId": "44d8981e-07b3-4964-f854-b45f463ea0c0"
      },
      "source": [
        "# Training XGBoost on the Training set\n",
        "from xgboost import XGBClassifier\n",
        "clf = XGBClassifier()\n",
        "\n",
        "n = [3,5,7,10]\n",
        "cv = StratifiedKFold(n_splits=n, shuffle=False)\n",
        "results = pd.DataFrame(columns=['training_score', 'test_score'])\n",
        "fprs, tprs, scores = [], [], []\n",
        "    \n",
        "for (train, test), i in zip(cv.split(X_train, y_train), range(n)):\n",
        "    clf.fit(X_train.iloc[train], y_train.iloc[train])\n",
        "    _, _, auc_score_train = compute_roc_auc(train)\n",
        "    fpr, tpr, auc_score = compute_roc_auc(test)\n",
        "    scores.append((auc_score_train, auc_score))\n",
        "    fprs.append(fpr)\n",
        "    tprs.append(tpr)\n",
        "\n",
        "plot_roc_curve(fprs, tprs);\n",
        "score_pd=pd.DataFrame(scores, columns=['AUC Train', 'AUC Test'])\n",
        "print(score_pd)\n",
        "\n",
        "test_fprs.append(fprs)\n",
        "test_tprs.append(tprs)\n",
        "auc_scores.append(score_pd['AUC Test'])\n"
      ],
      "id": "3W2sDpRrWc1L",
      "execution_count": null,
      "outputs": [
        {
          "output_type": "display_data",
          "data": {
            "image/png": "[encoded data removed]",
            "text/plain": [
              "<Figure size 1008x720 with 1 Axes>"
            ]
          },
          "metadata": {
            "needs_background": "light"
          }
        },
        {
          "output_type": "stream",
          "name": "stdout",
          "text": [
            "   AUC Train  AUC Test\n",
            "0   0.998823  0.986486\n",
            "1   1.000000  0.935551\n",
            "2   0.999019  0.957380\n",
            "3   0.999280  0.962578\n",
            "4   0.999025  0.942308\n"
          ]
        }
      ]
    },
    {
      "cell_type": "code",
      "metadata": {
        "colab": {
          "base_uri": "https://localhost:8080/",
          "height": 444
        },
        "id": "4LoBnPtSaQje",
        "outputId": "3fce6e5b-d87f-4e0f-f8f5-821375cfa151"
      },
      "source": [
        "preds = clf.predict(X_test)\n",
        "performance_meansure(X_test)"
      ],
      "id": "4LoBnPtSaQje",
      "execution_count": null,
      "outputs": [
        {
          "output_type": "stream",
          "name": "stdout",
          "text": [
            "Accuracy = 0.9113924050632911 \n",
            "Recall = 0.8857142857142857 \n",
            "Precision = 0.9117647058823529\n"
          ]
        },
        {
          "output_type": "display_data",
          "data": {
            "image/png": "[encoded data removed]",
            "text/plain": [
              "<Figure size 576x432 with 2 Axes>"
            ]
          },
          "metadata": {
            "needs_background": "light"
          }
        }
      ]
    },
    {
      "cell_type": "code",
      "metadata": {
        "colab": {
          "base_uri": "https://localhost:8080/"
        },
        "id": "K4PpNvUHaRTQ",
        "outputId": "46d86d40-0c3a-45b6-c871-5f064e76e059"
      },
      "source": [
        "len(auc_scores)\n",
        "print(auc_scores[0].to_numpy())"
      ],
      "id": "K4PpNvUHaRTQ",
      "execution_count": null,
      "outputs": [
        {
          "output_type": "stream",
          "name": "stdout",
          "text": [
            "[0.97609148 0.95841996 0.96309771 0.97609148 0.96047009]\n"
          ]
        }
      ]
    },
    {
      "cell_type": "code",
      "metadata": {
        "colab": {
          "base_uri": "https://localhost:8080/",
          "height": 334
        },
        "id": "3hGbZzLQF5kB",
        "outputId": "820082b4-98f3-4575-e13a-44dca21d191c"
      },
      "source": [
        "fig, ax = plt.subplots(figsize=(7,5))\n",
        "colour = ['r', 'b', 'g']\n",
        "for i in range(len(auc_scores)):\n",
        "  ax.plot(auc_scores[i].to_numpy(), label=model[i], color =colour[i])\n",
        "ax.set_xlabel('Iteration')\n",
        "ax.set_ylabel('AUC')\n",
        "ax.legend(loc=\"lower right\")\n",
        "plt.ylim(0,1.1)\n",
        "plt.show()"
      ],
      "id": "3hGbZzLQF5kB",
      "execution_count": null,
      "outputs": [
        {
          "output_type": "display_data",
          "data": {
            "image/png": "[encoded data removed]",
            "text/plain": [
              "<Figure size 504x360 with 1 Axes>"
            ]
          },
          "metadata": {
            "needs_background": "light"
          }
        }
      ]
    },
    {
      "cell_type": "code",
      "metadata": {
        "colab": {
          "base_uri": "https://localhost:8080/",
          "height": 143
        },
        "id": "LzJWWb7EHjKd",
        "outputId": "13aa76c1-6b70-4e5f-fc41-6df46832f57a"
      },
      "source": [
        "d = {'Model': model, 'Accuracy': accs , 'Recall': recalls, 'Precision': precisions}\n",
        "pd.DataFrame(data=d)"
      ],
      "id": "LzJWWb7EHjKd",
      "execution_count": null,
      "outputs": [
        {
          "output_type": "execute_result",
          "data": {
            "text/html": [
              "<div>\n",
              "<style scoped>\n",
              "    .dataframe tbody tr th:only-of-type {\n",
              "        vertical-align: middle;\n",
              "    }\n",
              "\n",
              "    .dataframe tbody tr th {\n",
              "        vertical-align: top;\n",
              "    }\n",
              "\n",
              "    .dataframe thead th {\n",
              "        text-align: right;\n",
              "    }\n",
              "</style>\n",
              "<table border=\"1\" class=\"dataframe\">\n",
              "  <thead>\n",
              "    <tr style=\"text-align: right;\">\n",
              "      <th></th>\n",
              "      <th>Model</th>\n",
              "      <th>Accuracy</th>\n",
              "      <th>Recall</th>\n",
              "      <th>Precision</th>\n",
              "    </tr>\n",
              "  </thead>\n",
              "  <tbody>\n",
              "    <tr>\n",
              "      <th>0</th>\n",
              "      <td>Random Forest</td>\n",
              "      <td>0.886076</td>\n",
              "      <td>0.800000</td>\n",
              "      <td>0.933333</td>\n",
              "    </tr>\n",
              "    <tr>\n",
              "      <th>1</th>\n",
              "      <td>SVM</td>\n",
              "      <td>0.848101</td>\n",
              "      <td>0.685714</td>\n",
              "      <td>0.960000</td>\n",
              "    </tr>\n",
              "    <tr>\n",
              "      <th>2</th>\n",
              "      <td>XGBoost</td>\n",
              "      <td>0.911392</td>\n",
              "      <td>0.885714</td>\n",
              "      <td>0.911765</td>\n",
              "    </tr>\n",
              "  </tbody>\n",
              "</table>\n",
              "</div>"
            ],
            "text/plain": [
              "           Model  Accuracy    Recall  Precision\n",
              "0  Random Forest  0.886076  0.800000   0.933333\n",
              "1            SVM  0.848101  0.685714   0.960000\n",
              "2        XGBoost  0.911392  0.885714   0.911765"
            ]
          },
          "metadata": {},
          "execution_count": 168
        }
      ]
    },
    {
      "cell_type": "code",
      "metadata": {
        "colab": {
          "base_uri": "https://localhost:8080/",
          "height": 334
        },
        "id": "gFJ6MoubNgds",
        "outputId": "aa90f56f-1dd3-42ad-88bb-af4e8760fd6f"
      },
      "source": [
        "# set width of bar\n",
        "barWidth = 0.25\n",
        "fig = plt.subplots(figsize =(7,5))\n",
        " \n",
        "# set height of bar\n",
        " \n",
        "# Set position of bar on X axis\n",
        "br1 = np.arange(len(model))\n",
        "br2 = [x + barWidth for x in br1]\n",
        "br3 = [x + barWidth for x in br2]\n",
        " \n",
        "# Make the plot\n",
        "plt.bar(br1, accs, color ='r', width = barWidth,\n",
        "        edgecolor ='grey', label ='Accuracy')\n",
        "plt.bar(br2, recalls, color ='g', width = barWidth,\n",
        "        edgecolor ='grey', label ='Recall')\n",
        "plt.bar(br3, precisions, color ='b', width = barWidth,\n",
        "        edgecolor ='grey', label ='Precision')\n",
        " \n",
        "# Adding Xticks\n",
        "plt.xlabel('Metode', fontweight ='bold')\n",
        "plt.ylabel('Confusion Matrix', fontweight ='bold')\n",
        "plt.xticks([r + barWidth for r in range(len(model))],model)\n",
        " \n",
        "plt.ylim(0,1.1)\n",
        "plt.legend()\n",
        "plt.show()"
      ],
      "id": "gFJ6MoubNgds",
      "execution_count": null,
      "outputs": [
        {
          "output_type": "display_data",
          "data": {
            "image/png": "[encoded data removed]",
            "text/plain": [
              "<Figure size 504x360 with 1 Axes>"
            ]
          },
          "metadata": {
            "needs_background": "light"
          }
        }
      ]
    },
    {
      "cell_type": "code",
      "metadata": {
        "colab": {
          "base_uri": "https://localhost:8080/"
        },
        "id": "UtKBxR1dRMC1",
        "outputId": "e3e0a5f0-fde5-40e2-c5ca-d731b04f7c12"
      },
      "source": [
        "accs"
      ],
      "id": "UtKBxR1dRMC1",
      "execution_count": null,
      "outputs": [
        {
          "output_type": "execute_result",
          "data": {
            "text/plain": [
              "[0.8860759493670886, 0.8481012658227848, 0.9113924050632911]"
            ]
          },
          "metadata": {},
          "execution_count": 170
        }
      ]
    }
  ]
}